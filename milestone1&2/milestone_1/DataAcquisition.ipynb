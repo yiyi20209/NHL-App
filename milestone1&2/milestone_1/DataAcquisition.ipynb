{
 "cells": [
  {
   "cell_type": "code",
   "execution_count": 3,
   "metadata": {},
   "outputs": [],
   "source": [
    "from turtle import st\n",
    "import requests\n",
    "import json\n",
    "import pandas as pd\n",
    "import os\n"
   ]
  },
  {
   "cell_type": "code",
   "execution_count": 4,
   "metadata": {},
   "outputs": [
    {
     "name": "stdout",
     "output_type": "stream",
     "text": [
      "2016 R\n",
      "2016 P\n",
      "2017 R\n",
      "2017 P\n",
      "2018 R\n",
      "2018 P\n",
      "2019 R\n",
      "2019 P\n",
      "2020 R\n",
      "2020 P\n"
     ]
    }
   ],
   "source": [
    "from dataExtract import DataExtraction\n",
    "obj_extraction = DataExtraction()\n",
    "year_list = ['2016', '2017', '2018', '2019', '2020'] \n",
    "season_list = ['R', 'P']\n",
    "for year in year_list:\n",
    "    for season_type in season_list: \n",
    "        print(year, season_type)\n",
    "        obj_extraction.download_all_json(year, season_type)"
   ]
  },
  {
   "cell_type": "code",
   "execution_count": null,
   "metadata": {},
   "outputs": [],
   "source": []
  }
 ],
 "metadata": {
  "kernelspec": {
   "display_name": "Python 3 (ipykernel)",
   "language": "python",
   "name": "python3"
  },
  "language_info": {
   "codemirror_mode": {
    "name": "ipython",
    "version": 3
   },
   "file_extension": ".py",
   "mimetype": "text/x-python",
   "name": "python",
   "nbconvert_exporter": "python",
   "pygments_lexer": "ipython3",
   "version": "3.7.3"
  },
  "vscode": {
   "interpreter": {
    "hash": "42a3d39a68e9055eb98cf71f38b73fb655ba02baac93420be27944e7247d2679"
   }
  }
 },
 "nbformat": 4,
 "nbformat_minor": 2
}
